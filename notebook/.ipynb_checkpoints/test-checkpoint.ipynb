{
 "cells": [
  {
   "cell_type": "code",
   "execution_count": 12,
   "metadata": {},
   "outputs": [
    {
     "name": "stderr",
     "output_type": "stream",
     "text": [
      "INFO:drake:Meshcat listening for connections at http://localhost:7002\n"
     ]
    }
   ],
   "source": [
    "# Import some basic libraries and functions for this tutorial.\n",
    "import numpy as np\n",
    "import os\n",
    "\n",
    "from pydrake.common import temp_directory\n",
    "from pydrake.geometry import (\n",
    "    MeshcatVisualizer,\n",
    "    MeshcatVisualizerParams,\n",
    "    Role,\n",
    "    StartMeshcat,\n",
    ")\n",
    "from pydrake.math import RigidTransform, RollPitchYaw\n",
    "from pydrake.multibody.parsing import Parser\n",
    "from pydrake.multibody.plant import AddMultibodyPlantSceneGraph\n",
    "from pydrake.systems.analysis import Simulator\n",
    "from pydrake.systems.framework import DiagramBuilder\n",
    "from pydrake.visualization import ModelVisualizer\n",
    "\n",
    "meshcat = StartMeshcat()"
   ]
  },
  {
   "cell_type": "code",
   "execution_count": 44,
   "metadata": {},
   "outputs": [
    {
     "name": "stderr",
     "output_type": "stream",
     "text": [
      "INFO:drake:Click 'Stop Running' or press Esc to quit\n"
     ]
    },
    {
     "data": {
      "text/plain": [
       "<RunResult.STOPPED: 2>"
      ]
     },
     "execution_count": 44,
     "metadata": {},
     "output_type": "execute_result"
    }
   ],
   "source": [
    "# First we'll choose one of Drake's example model files, a KUKA iiwa arm.\n",
    "iiwa7_model_url = (\n",
    "    \"package://drake/manipulation/models/\"\n",
    "    \"iiwa_description/iiwa7/iiwa7_with_box_collision.sdf\")\n",
    "\n",
    "# Create a model visualizer and add the robot arm.\n",
    "visualizer = ModelVisualizer(meshcat=meshcat)\n",
    "visualizer.parser().AddModels(url=iiwa7_model_url)\n",
    "\n",
    "# When this notebook is run in test mode it needs to stop execution without\n",
    "# user interaction. For interactive model visualization you won't normally\n",
    "# need the 'loop_once' flag.\n",
    "test_mode = True if \"TEST_SRCDIR\" in os.environ else False\n",
    "\n",
    "# Start the interactive visualizer.\n",
    "# Click the \"Stop Running\" button in MeshCat when you're finished.\n",
    "visualizer.Run(loop_once=test_mode)"
   ]
  },
  {
   "cell_type": "code",
   "execution_count": 58,
   "metadata": {},
   "outputs": [
    {
     "name": "stderr",
     "output_type": "stream",
     "text": [
      "INFO:drake:Click 'Stop Running' or press Esc to quit\n"
     ]
    },
    {
     "data": {
      "text/plain": [
       "<RunResult.STOPPED: 2>"
      ]
     },
     "execution_count": 58,
     "metadata": {},
     "output_type": "execute_result"
    }
   ],
   "source": [
    "indy7_model_filename=\"/home/sung/workspace/drake_example/models/indy7/indy7.sdf\"\n",
    "\n",
    "visualizer = ModelVisualizer(meshcat=meshcat)\n",
    "visualizer.parser().AddModels(file_name=indy7_model_filename)\n",
    "test_mode = True if \"TEST_SRCDIR\" in os.environ else False\n",
    "visualizer.Run(loop_once=test_mode)"
   ]
  },
  {
   "cell_type": "code",
   "execution_count": null,
   "metadata": {},
   "outputs": [],
   "source": [
    "def create_scene(sim_time_step):\n",
    "    # Clean up the Meshcat instance.\n",
    "    meshcat.Delete()\n",
    "    meshcat.DeleteAddedControls()\n",
    "\n",
    "    builder = DiagramBuilder()\n",
    "    plant, scene_graph = AddMultibodyPlantSceneGraph(\n",
    "        builder, time_step=sim_time_step)\n",
    "    parser = Parser(plant)\n",
    "    \n",
    "\n",
    "    # Loading models.\n",
    "    # Load the table top and the cylinder we created.\n",
    "    parser.AddModels(file_name=indy7_model_filename)\n",
    "\n",
    "    # Weld the table to the world so that it's fixed during the simulation.\n",
    "    indy7_frame = plant.GetFrameByName(\"base_link\")\n",
    "    plant.WeldFrames(plant.world_frame(), indy7_frame)\n",
    "    # Finalize the plant after loading the scene.\n",
    "    plant.Finalize()\n",
    "    # We use the default context to calculate the transformation of the table\n",
    "    # in world frame but this is NOT the context the Diagram consumes.\n",
    "    plant_context = plant.CreateDefaultContext()\n",
    "\n",
    "    # Set the initial pose for the free bodies, i.e., the custom cylinder,\n",
    "    # the cracker box, and the sugar box.\n",
    "    cylinder = plant.GetBodyByName(\"cylinder_link\")\n",
    "    X_WorldTable = table_frame.CalcPoseInWorld(plant_context)\n",
    "    X_TableCylinder = RigidTransform(\n",
    "        RollPitchYaw(np.asarray([90, 0, 0]) * np.pi / 180), p=[0,0,0.5])\n",
    "    X_WorldCylinder = X_WorldTable.multiply(X_TableCylinder)\n",
    "    plant.SetDefaultFreeBodyPose(cylinder, X_WorldCylinder)\n",
    "\n",
    "    cracker_box = plant.GetBodyByName(\"base_link_cracker\")\n",
    "    X_TableCracker = RigidTransform(\n",
    "        RollPitchYaw(np.asarray([45, 30, 0]) * np.pi / 180), p=[0,0,0.8])\n",
    "    X_WorldCracker = X_WorldTable.multiply(X_TableCracker)\n",
    "    plant.SetDefaultFreeBodyPose(cracker_box, X_WorldCracker)\n",
    "\n",
    "    sugar_box = plant.GetBodyByName(\"004_sugar_box_textured\")\n",
    "    X_TableSugar = RigidTransform(p=[0,-0.25,0.8])\n",
    "    X_WorldSugar = X_WorldTable.multiply(X_TableSugar)\n",
    "    plant.SetDefaultFreeBodyPose(sugar_box, X_WorldSugar)\n",
    "    \n",
    "    # Add visualizer to visualize the geometries.\n",
    "    visualizer = MeshcatVisualizer.AddToBuilder(\n",
    "        builder, scene_graph, meshcat,\n",
    "        MeshcatVisualizerParams(role=Role.kPerception, prefix=\"visual\"))\n",
    "\n",
    "    diagram = builder.Build()\n",
    "    return diagram, visualizer"
   ]
  },
  {
   "cell_type": "code",
   "execution_count": 59,
   "metadata": {},
   "outputs": [
    {
     "ename": "NameError",
     "evalue": "name 'create_scene' is not defined",
     "output_type": "error",
     "traceback": [
      "\u001b[0;31m---------------------------------------------------------------------------\u001b[0m",
      "\u001b[0;31mNameError\u001b[0m                                 Traceback (most recent call last)",
      "Cell \u001b[0;32mIn[59], line 16\u001b[0m\n\u001b[1;32m     13\u001b[0m     visualizer\u001b[38;5;241m.\u001b[39mPublishRecording()\n\u001b[1;32m     15\u001b[0m \u001b[38;5;66;03m# Run the simulation with a small time step. Try gradually increasing it!\u001b[39;00m\n\u001b[0;32m---> 16\u001b[0m \u001b[43mrun_simulation\u001b[49m\u001b[43m(\u001b[49m\u001b[43msim_time_step\u001b[49m\u001b[38;5;241;43m=\u001b[39;49m\u001b[38;5;241;43m0.0001\u001b[39;49m\u001b[43m)\u001b[49m\n",
      "Cell \u001b[0;32mIn[59], line 8\u001b[0m, in \u001b[0;36mrun_simulation\u001b[0;34m(sim_time_step)\u001b[0m\n\u001b[1;32m      7\u001b[0m \u001b[38;5;28;01mdef\u001b[39;00m \u001b[38;5;21mrun_simulation\u001b[39m(sim_time_step):\n\u001b[0;32m----> 8\u001b[0m     diagram, visualizer \u001b[38;5;241m=\u001b[39m \u001b[43mcreate_scene\u001b[49m(sim_time_step)\n\u001b[1;32m      9\u001b[0m     simulator \u001b[38;5;241m=\u001b[39m initialize_simulation(diagram)\n\u001b[1;32m     10\u001b[0m     visualizer\u001b[38;5;241m.\u001b[39mStartRecording()\n",
      "\u001b[0;31mNameError\u001b[0m: name 'create_scene' is not defined"
     ]
    }
   ],
   "source": [
    "def initialize_simulation(diagram):\n",
    "    simulator = Simulator(diagram)\n",
    "    simulator.Initialize()\n",
    "    simulator.set_target_realtime_rate(1.)\n",
    "    return simulator\n",
    "\n",
    "def run_simulation(sim_time_step):\n",
    "    diagram, visualizer = create_scene(sim_time_step)\n",
    "    simulator = initialize_simulation(diagram)\n",
    "    visualizer.StartRecording()\n",
    "    finish_time = 0.1 if test_mode else 2.0\n",
    "    simulator.AdvanceTo(finish_time)\n",
    "    visualizer.PublishRecording()\n",
    "\n",
    "# Run the simulation with a small time step. Try gradually increasing it!\n",
    "run_simulation(sim_time_step=0.0001)"
   ]
  },
  {
   "cell_type": "code",
   "execution_count": null,
   "metadata": {},
   "outputs": [],
   "source": []
  }
 ],
 "metadata": {
  "kernelspec": {
   "display_name": "Python 3 (ipykernel)",
   "language": "python",
   "name": "python3"
  },
  "language_info": {
   "codemirror_mode": {
    "name": "ipython",
    "version": 3
   },
   "file_extension": ".py",
   "mimetype": "text/x-python",
   "name": "python",
   "nbconvert_exporter": "python",
   "pygments_lexer": "ipython3",
   "version": "3.10.6"
  }
 },
 "nbformat": 4,
 "nbformat_minor": 2
}
