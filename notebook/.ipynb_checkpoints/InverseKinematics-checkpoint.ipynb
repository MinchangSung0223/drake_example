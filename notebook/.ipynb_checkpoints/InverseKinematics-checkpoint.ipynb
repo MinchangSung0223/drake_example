{
 "cells": [
  {
   "cell_type": "code",
   "execution_count": 125,
   "id": "bc5a39a8",
   "metadata": {},
   "outputs": [],
   "source": [
    "import numpy as np\n",
    "\n",
    "from pydrake.math import RigidTransform\n",
    "from pydrake.multibody.parsing import Parser\n",
    "from pydrake.systems.analysis import Simulator\n",
    "from pydrake.all import MultibodyPlant\n",
    "\n",
    "from pydrake.solvers import MathematicalProgram, Solve\n",
    "plant_f = MultibodyPlant(0.0)\n",
    "indy7_model_filename=\"/home/sung/workspace/drake_example/models/indy7/indy7.sdf\"\n",
    "\n",
    "(indy7,) = Parser(plant_f).AddModels(indy7_model_filename)\n",
    "\n",
    "# Define some short aliases for frames.\n",
    "W = plant_f.world_frame()\n",
    "L0 = plant_f.GetFrameByName(\"base_link\", indy7)\n",
    "TCP = plant_f.GetFrameByName(\"tcp\", indy7)\n",
    "\n",
    "plant_f.WeldFrames(W, L0)\n",
    "plant_f.Finalize()\n",
    "# Allocate float context to be used by evaluators.\n",
    "context_f = plant_f.CreateDefaultContext()\n",
    "# Create AutoDiffXd plant and corresponding context.\n",
    "plant_ad = plant_f.ToAutoDiffXd()\n",
    "context_ad = plant_ad.CreateDefaultContext()\n",
    "\n",
    "def resolve_frame(plant, F):\n",
    "    \"\"\"Gets a frame from a plant whose scalar type may be different.\"\"\"\n",
    "    return plant.GetFrameByName(F.name(), F.model_instance())\n",
    "\n",
    "# Define target position.\n",
    "p_WT = [0.4, 0.0, 0.4]\n",
    "quat_WT = [0,0,0,1]\n",
    "def tcp_distance_to_target(q):\n",
    "    \"\"\"Evaluates squared distance between TCP origin and target T.\"\"\"\n",
    "    # Choose plant and context based on dtype.\n",
    "    if q.dtype == float:\n",
    "        plant = plant_f\n",
    "        context = context_f\n",
    "    else:\n",
    "        # Assume AutoDiff.\n",
    "        plant = plant_ad\n",
    "        context = context_ad\n",
    "    # Do forward kinematics.\n",
    "    plant.SetPositions(context, indy7, q)\n",
    "    X_WTCP = plant.CalcRelativeTransform(\n",
    "        context, resolve_frame(plant, W), resolve_frame(plant, TCP))\n",
    "    p_TTCP = X_WTCP.translation() - p_WT\n",
    "    \n",
    "    #wp_WTCP = np.zeros(6,1);\n",
    "    #wp_WTCP[0:3] = w_WTCP;\n",
    "    #wp_WTCP[3:6] = p_WTCP;\n",
    "    return p_TTCP.dot(p_TTCP)\n",
    "\n",
    "# WARNING: If you return a scalar for a constraint, or a vector for\n",
    "# a cost, you may get the following cryptic error:\n",
    "# \"Unable to cast Python instance to C++ type\"\n",
    "tcp_distance_to_target_vector = lambda q: [tcp_distance_to_target(q)]\n",
    "\n"
   ]
  },
  {
   "cell_type": "code",
   "execution_count": 126,
   "id": "a521cfa2",
   "metadata": {},
   "outputs": [
    {
     "ename": "RuntimeError",
     "evalue": "Exception while evaluating SNOPT costs and constraints: 'TypeError: GetMaximumAbsoluteDifference(): incompatible function arguments. The following argument types are supported:\n    1. (self: pydrake.math.RigidTransform_𝓣AutoDiffXd𝓤, other: pydrake.math.RigidTransform_𝓣AutoDiffXd𝓤) -> pydrake.autodiffutils.AutoDiffXd\n\nInvoked with: RigidTransform_[AutoDiffXd](\n  R=RotationMatrix_[AutoDiffXd]([\n    [<AutoDiffXd -1.0 nderiv=6>, <AutoDiffXd 9.792999744510305e-12 nderiv=6>, <AutoDiffXd 2.889980616747187e-16 nderiv=6>],\n    [<AutoDiffXd 9.792999744462348e-12 nderiv=6>, <AutoDiffXd 0.9999999999999999 nderiv=6>, <AutoDiffXd -9.793443833624246e-12 nderiv=6>],\n    [<AutoDiffXd -1.224647038910832e-16 nderiv=6>, <AutoDiffXd -9.793443833624246e-12 nderiv=6>, <AutoDiffXd -1.0 nderiv=6>],\n  ]),\n  p=[<AutoDiffXd 0.45000000000126344 nderiv=6>, <AutoDiffXd -0.18650000000181682 nderiv=6>, <AutoDiffXd -0.278499999996751 nderiv=6>],\n)\n\nAt:\n  /tmp/ipykernel_27579/2859448975.py(48): tcp_distance_to_target\n  /tmp/ipykernel_27579/2859448975.py(59): <lambda>\n  /tmp/ipykernel_27579/1863038836.py(15): <module>\n  /home/sung/.local/lib/python3.10/site-packages/IPython/core/interactiveshell.py(3442): run_code\n  /home/sung/.local/lib/python3.10/site-packages/IPython/core/interactiveshell.py(3382): run_ast_nodes\n  /home/sung/.local/lib/python3.10/site-packages/IPython/core/interactiveshell.py(3203): run_cell_async\n  /home/sung/.local/lib/python3.10/site-packages/IPython/core/async_helpers.py(129): _pseudo_sync_runner\n  /home/sung/.local/lib/python3.10/site-packages/IPython/core/interactiveshell.py(3000): _run_cell\n  /home/sung/.local/lib/python3.10/site-packages/IPython/core/interactiveshell.py(2945): run_cell\n  /home/sung/.local/lib/python3.10/site-packages/ipykernel/zmqshell.py(530): run_cell\n  /home/sung/.local/lib/python3.10/site-packages/ipykernel/ipkernel.py(411): do_execute\n  /home/sung/.local/lib/python3.10/site-packages/ipykernel/kernelbase.py(729): execute_request\n  /home/sung/.local/lib/python3.10/site-packages/ipykernel/kernelbase.py(406): dispatch_shell\n  /home/sung/.local/lib/python3.10/site-packages/ipykernel/kernelbase.py(499): process_one\n  /home/sung/.local/lib/python3.10/site-packages/ipykernel/kernelbase.py(510): dispatch_queue\n  /usr/lib/python3.10/asyncio/events.py(80): _run\n  /usr/lib/python3.10/asyncio/base_events.py(1896): _run_once\n  /usr/lib/python3.10/asyncio/base_events.py(600): run_forever\n  /home/sung/.local/lib/python3.10/site-packages/tornado/platform/asyncio.py(215): start\n  /home/sung/.local/lib/python3.10/site-packages/ipykernel/kernelapp.py(711): start\n  /home/sung/.local/lib/python3.10/site-packages/traitlets/config/application.py(1041): launch_instance\n  /home/sung/.local/lib/python3.10/site-packages/ipykernel_launcher.py(17): <module>\n  /usr/lib/python3.10/runpy.py(86): _run_code\n  /usr/lib/python3.10/runpy.py(196): _run_module_as_main\n'",
     "output_type": "error",
     "traceback": [
      "\u001b[0;31m---------------------------------------------------------------------------\u001b[0m",
      "\u001b[0;31mRuntimeError\u001b[0m                              Traceback (most recent call last)",
      "Cell \u001b[0;32mIn[126], line 15\u001b[0m\n\u001b[1;32m     10\u001b[0m \u001b[38;5;66;03m# Add constraint based on custom evaluator.\u001b[39;00m\n\u001b[1;32m     11\u001b[0m prog\u001b[38;5;241m.\u001b[39mAddConstraint(\n\u001b[1;32m     12\u001b[0m     tcp_distance_to_target_vector,\n\u001b[1;32m     13\u001b[0m     lb\u001b[38;5;241m=\u001b[39m[\u001b[38;5;241m0.1\u001b[39m], ub\u001b[38;5;241m=\u001b[39m[\u001b[38;5;241m0.2\u001b[39m], \u001b[38;5;28mvars\u001b[39m\u001b[38;5;241m=\u001b[39mq)\n\u001b[0;32m---> 15\u001b[0m result \u001b[38;5;241m=\u001b[39m \u001b[43mSolve\u001b[49m\u001b[43m(\u001b[49m\u001b[43mprog\u001b[49m\u001b[43m,\u001b[49m\u001b[43m \u001b[49m\u001b[43minitial_guess\u001b[49m\u001b[38;5;241;43m=\u001b[39;49m\u001b[43mq0\u001b[49m\u001b[43m)\u001b[49m\n\u001b[1;32m     17\u001b[0m \u001b[38;5;28mprint\u001b[39m(\u001b[38;5;124mf\u001b[39m\u001b[38;5;124m\"\u001b[39m\u001b[38;5;124mSuccess? \u001b[39m\u001b[38;5;132;01m{\u001b[39;00mresult\u001b[38;5;241m.\u001b[39mis_success()\u001b[38;5;132;01m}\u001b[39;00m\u001b[38;5;124m\"\u001b[39m)\n\u001b[1;32m     18\u001b[0m \u001b[38;5;28mprint\u001b[39m(result\u001b[38;5;241m.\u001b[39mget_solution_result())\n",
      "\u001b[0;31mRuntimeError\u001b[0m: Exception while evaluating SNOPT costs and constraints: 'TypeError: GetMaximumAbsoluteDifference(): incompatible function arguments. The following argument types are supported:\n    1. (self: pydrake.math.RigidTransform_𝓣AutoDiffXd𝓤, other: pydrake.math.RigidTransform_𝓣AutoDiffXd𝓤) -> pydrake.autodiffutils.AutoDiffXd\n\nInvoked with: RigidTransform_[AutoDiffXd](\n  R=RotationMatrix_[AutoDiffXd]([\n    [<AutoDiffXd -1.0 nderiv=6>, <AutoDiffXd 9.792999744510305e-12 nderiv=6>, <AutoDiffXd 2.889980616747187e-16 nderiv=6>],\n    [<AutoDiffXd 9.792999744462348e-12 nderiv=6>, <AutoDiffXd 0.9999999999999999 nderiv=6>, <AutoDiffXd -9.793443833624246e-12 nderiv=6>],\n    [<AutoDiffXd -1.224647038910832e-16 nderiv=6>, <AutoDiffXd -9.793443833624246e-12 nderiv=6>, <AutoDiffXd -1.0 nderiv=6>],\n  ]),\n  p=[<AutoDiffXd 0.45000000000126344 nderiv=6>, <AutoDiffXd -0.18650000000181682 nderiv=6>, <AutoDiffXd -0.278499999996751 nderiv=6>],\n)\n\nAt:\n  /tmp/ipykernel_27579/2859448975.py(48): tcp_distance_to_target\n  /tmp/ipykernel_27579/2859448975.py(59): <lambda>\n  /tmp/ipykernel_27579/1863038836.py(15): <module>\n  /home/sung/.local/lib/python3.10/site-packages/IPython/core/interactiveshell.py(3442): run_code\n  /home/sung/.local/lib/python3.10/site-packages/IPython/core/interactiveshell.py(3382): run_ast_nodes\n  /home/sung/.local/lib/python3.10/site-packages/IPython/core/interactiveshell.py(3203): run_cell_async\n  /home/sung/.local/lib/python3.10/site-packages/IPython/core/async_helpers.py(129): _pseudo_sync_runner\n  /home/sung/.local/lib/python3.10/site-packages/IPython/core/interactiveshell.py(3000): _run_cell\n  /home/sung/.local/lib/python3.10/site-packages/IPython/core/interactiveshell.py(2945): run_cell\n  /home/sung/.local/lib/python3.10/site-packages/ipykernel/zmqshell.py(530): run_cell\n  /home/sung/.local/lib/python3.10/site-packages/ipykernel/ipkernel.py(411): do_execute\n  /home/sung/.local/lib/python3.10/site-packages/ipykernel/kernelbase.py(729): execute_request\n  /home/sung/.local/lib/python3.10/site-packages/ipykernel/kernelbase.py(406): dispatch_shell\n  /home/sung/.local/lib/python3.10/site-packages/ipykernel/kernelbase.py(499): process_one\n  /home/sung/.local/lib/python3.10/site-packages/ipykernel/kernelbase.py(510): dispatch_queue\n  /usr/lib/python3.10/asyncio/events.py(80): _run\n  /usr/lib/python3.10/asyncio/base_events.py(1896): _run_once\n  /usr/lib/python3.10/asyncio/base_events.py(600): run_forever\n  /home/sung/.local/lib/python3.10/site-packages/tornado/platform/asyncio.py(215): start\n  /home/sung/.local/lib/python3.10/site-packages/ipykernel/kernelapp.py(711): start\n  /home/sung/.local/lib/python3.10/site-packages/traitlets/config/application.py(1041): launch_instance\n  /home/sung/.local/lib/python3.10/site-packages/ipykernel_launcher.py(17): <module>\n  /usr/lib/python3.10/runpy.py(86): _run_code\n  /usr/lib/python3.10/runpy.py(196): _run_module_as_main\n'"
     ]
    }
   ],
   "source": [
    "prog = MathematicalProgram()\n",
    "\n",
    "q = prog.NewContinuousVariables(plant_f.num_positions())\n",
    "# Define nominal configuration.\n",
    "q0 = np.array([0,-np.pi/2,-np.pi/2,0,0,0 ])\n",
    "\n",
    "# Add basic cost. (This will be parsed into a QuadraticCost.)\n",
    "prog.AddCost((q - q0).dot(q - q0))\n",
    "\n",
    "# Add constraint based on custom evaluator.\n",
    "prog.AddConstraint(\n",
    "    tcp_distance_to_target_vector,\n",
    "    lb=[0.1], ub=[0.2], vars=q)\n",
    "\n",
    "result = Solve(prog, initial_guess=q0)\n",
    "\n",
    "print(f\"Success? {result.is_success()}\")\n",
    "print(result.get_solution_result())\n",
    "q_sol = result.GetSolution(q)\n",
    "print(q_sol)\n",
    "\n",
    "print(f\"Initial distance: {tcp_distance_to_target(q0):.3f}\")\n",
    "print(f\"Solution distance: {tcp_distance_to_target(q_sol):.3f}\")"
   ]
  },
  {
   "cell_type": "code",
   "execution_count": 127,
   "id": "5ef5a979",
   "metadata": {},
   "outputs": [
    {
     "data": {
      "text/plain": [
       "<pydrake.solvers.Binding𝓣Cost𝓤 at 0x7f77dd9d92f0>"
      ]
     },
     "execution_count": 127,
     "metadata": {},
     "output_type": "execute_result"
    }
   ],
   "source": [
    "prog = MathematicalProgram()\n",
    "\n",
    "q = prog.NewContinuousVariables(plant_f.num_positions())\n",
    "# Define nominal configuration.\n",
    "q0 = np.array([0,-np.pi/2,-np.pi/2,0,0,0 ])\n",
    "\n",
    "# Add custom cost.\n",
    "prog.AddCost(tcp_distance_to_target, vars=q)"
   ]
  },
  {
   "cell_type": "code",
   "execution_count": 128,
   "id": "e2b00e0d",
   "metadata": {},
   "outputs": [
    {
     "ename": "RuntimeError",
     "evalue": "Exception while evaluating SNOPT costs and constraints: 'TypeError: GetMaximumAbsoluteDifference(): incompatible function arguments. The following argument types are supported:\n    1. (self: pydrake.math.RigidTransform_𝓣AutoDiffXd𝓤, other: pydrake.math.RigidTransform_𝓣AutoDiffXd𝓤) -> pydrake.autodiffutils.AutoDiffXd\n\nInvoked with: RigidTransform_[AutoDiffXd](\n  R=RotationMatrix_[AutoDiffXd]([\n    [<AutoDiffXd -1.0 nderiv=6>, <AutoDiffXd 9.792999744510305e-12 nderiv=6>, <AutoDiffXd 2.889980616747187e-16 nderiv=6>],\n    [<AutoDiffXd 9.792999744462348e-12 nderiv=6>, <AutoDiffXd 0.9999999999999999 nderiv=6>, <AutoDiffXd -9.793443833624246e-12 nderiv=6>],\n    [<AutoDiffXd -1.224647038910832e-16 nderiv=6>, <AutoDiffXd -9.793443833624246e-12 nderiv=6>, <AutoDiffXd -1.0 nderiv=6>],\n  ]),\n  p=[<AutoDiffXd 0.45000000000126344 nderiv=6>, <AutoDiffXd -0.18650000000181682 nderiv=6>, <AutoDiffXd -0.278499999996751 nderiv=6>],\n)\n\nAt:\n  /tmp/ipykernel_27579/2859448975.py(48): tcp_distance_to_target\n  /tmp/ipykernel_27579/3686599258.py(1): <module>\n  /home/sung/.local/lib/python3.10/site-packages/IPython/core/interactiveshell.py(3442): run_code\n  /home/sung/.local/lib/python3.10/site-packages/IPython/core/interactiveshell.py(3382): run_ast_nodes\n  /home/sung/.local/lib/python3.10/site-packages/IPython/core/interactiveshell.py(3203): run_cell_async\n  /home/sung/.local/lib/python3.10/site-packages/IPython/core/async_helpers.py(129): _pseudo_sync_runner\n  /home/sung/.local/lib/python3.10/site-packages/IPython/core/interactiveshell.py(3000): _run_cell\n  /home/sung/.local/lib/python3.10/site-packages/IPython/core/interactiveshell.py(2945): run_cell\n  /home/sung/.local/lib/python3.10/site-packages/ipykernel/zmqshell.py(530): run_cell\n  /home/sung/.local/lib/python3.10/site-packages/ipykernel/ipkernel.py(411): do_execute\n  /home/sung/.local/lib/python3.10/site-packages/ipykernel/kernelbase.py(729): execute_request\n  /home/sung/.local/lib/python3.10/site-packages/ipykernel/kernelbase.py(406): dispatch_shell\n  /home/sung/.local/lib/python3.10/site-packages/ipykernel/kernelbase.py(499): process_one\n  /home/sung/.local/lib/python3.10/site-packages/ipykernel/kernelbase.py(510): dispatch_queue\n  /usr/lib/python3.10/asyncio/events.py(80): _run\n  /usr/lib/python3.10/asyncio/base_events.py(1896): _run_once\n  /usr/lib/python3.10/asyncio/base_events.py(600): run_forever\n  /home/sung/.local/lib/python3.10/site-packages/tornado/platform/asyncio.py(215): start\n  /home/sung/.local/lib/python3.10/site-packages/ipykernel/kernelapp.py(711): start\n  /home/sung/.local/lib/python3.10/site-packages/traitlets/config/application.py(1041): launch_instance\n  /home/sung/.local/lib/python3.10/site-packages/ipykernel_launcher.py(17): <module>\n  /usr/lib/python3.10/runpy.py(86): _run_code\n  /usr/lib/python3.10/runpy.py(196): _run_module_as_main\n'",
     "output_type": "error",
     "traceback": [
      "\u001b[0;31m---------------------------------------------------------------------------\u001b[0m",
      "\u001b[0;31mRuntimeError\u001b[0m                              Traceback (most recent call last)",
      "Cell \u001b[0;32mIn[128], line 1\u001b[0m\n\u001b[0;32m----> 1\u001b[0m result \u001b[38;5;241m=\u001b[39m \u001b[43mSolve\u001b[49m\u001b[43m(\u001b[49m\u001b[43mprog\u001b[49m\u001b[43m,\u001b[49m\u001b[43m \u001b[49m\u001b[43minitial_guess\u001b[49m\u001b[38;5;241;43m=\u001b[39;49m\u001b[43mq0\u001b[49m\u001b[43m)\u001b[49m\n\u001b[1;32m      3\u001b[0m \u001b[38;5;28mprint\u001b[39m(\u001b[38;5;124mf\u001b[39m\u001b[38;5;124m\"\u001b[39m\u001b[38;5;124mSuccess? \u001b[39m\u001b[38;5;132;01m{\u001b[39;00mresult\u001b[38;5;241m.\u001b[39mis_success()\u001b[38;5;132;01m}\u001b[39;00m\u001b[38;5;124m\"\u001b[39m)\n\u001b[1;32m      4\u001b[0m \u001b[38;5;28mprint\u001b[39m(result\u001b[38;5;241m.\u001b[39mget_solution_result())\n",
      "\u001b[0;31mRuntimeError\u001b[0m: Exception while evaluating SNOPT costs and constraints: 'TypeError: GetMaximumAbsoluteDifference(): incompatible function arguments. The following argument types are supported:\n    1. (self: pydrake.math.RigidTransform_𝓣AutoDiffXd𝓤, other: pydrake.math.RigidTransform_𝓣AutoDiffXd𝓤) -> pydrake.autodiffutils.AutoDiffXd\n\nInvoked with: RigidTransform_[AutoDiffXd](\n  R=RotationMatrix_[AutoDiffXd]([\n    [<AutoDiffXd -1.0 nderiv=6>, <AutoDiffXd 9.792999744510305e-12 nderiv=6>, <AutoDiffXd 2.889980616747187e-16 nderiv=6>],\n    [<AutoDiffXd 9.792999744462348e-12 nderiv=6>, <AutoDiffXd 0.9999999999999999 nderiv=6>, <AutoDiffXd -9.793443833624246e-12 nderiv=6>],\n    [<AutoDiffXd -1.224647038910832e-16 nderiv=6>, <AutoDiffXd -9.793443833624246e-12 nderiv=6>, <AutoDiffXd -1.0 nderiv=6>],\n  ]),\n  p=[<AutoDiffXd 0.45000000000126344 nderiv=6>, <AutoDiffXd -0.18650000000181682 nderiv=6>, <AutoDiffXd -0.278499999996751 nderiv=6>],\n)\n\nAt:\n  /tmp/ipykernel_27579/2859448975.py(48): tcp_distance_to_target\n  /tmp/ipykernel_27579/3686599258.py(1): <module>\n  /home/sung/.local/lib/python3.10/site-packages/IPython/core/interactiveshell.py(3442): run_code\n  /home/sung/.local/lib/python3.10/site-packages/IPython/core/interactiveshell.py(3382): run_ast_nodes\n  /home/sung/.local/lib/python3.10/site-packages/IPython/core/interactiveshell.py(3203): run_cell_async\n  /home/sung/.local/lib/python3.10/site-packages/IPython/core/async_helpers.py(129): _pseudo_sync_runner\n  /home/sung/.local/lib/python3.10/site-packages/IPython/core/interactiveshell.py(3000): _run_cell\n  /home/sung/.local/lib/python3.10/site-packages/IPython/core/interactiveshell.py(2945): run_cell\n  /home/sung/.local/lib/python3.10/site-packages/ipykernel/zmqshell.py(530): run_cell\n  /home/sung/.local/lib/python3.10/site-packages/ipykernel/ipkernel.py(411): do_execute\n  /home/sung/.local/lib/python3.10/site-packages/ipykernel/kernelbase.py(729): execute_request\n  /home/sung/.local/lib/python3.10/site-packages/ipykernel/kernelbase.py(406): dispatch_shell\n  /home/sung/.local/lib/python3.10/site-packages/ipykernel/kernelbase.py(499): process_one\n  /home/sung/.local/lib/python3.10/site-packages/ipykernel/kernelbase.py(510): dispatch_queue\n  /usr/lib/python3.10/asyncio/events.py(80): _run\n  /usr/lib/python3.10/asyncio/base_events.py(1896): _run_once\n  /usr/lib/python3.10/asyncio/base_events.py(600): run_forever\n  /home/sung/.local/lib/python3.10/site-packages/tornado/platform/asyncio.py(215): start\n  /home/sung/.local/lib/python3.10/site-packages/ipykernel/kernelapp.py(711): start\n  /home/sung/.local/lib/python3.10/site-packages/traitlets/config/application.py(1041): launch_instance\n  /home/sung/.local/lib/python3.10/site-packages/ipykernel_launcher.py(17): <module>\n  /usr/lib/python3.10/runpy.py(86): _run_code\n  /usr/lib/python3.10/runpy.py(196): _run_module_as_main\n'"
     ]
    }
   ],
   "source": [
    "result = Solve(prog, initial_guess=q0)\n",
    "\n",
    "print(f\"Success? {result.is_success()}\")\n",
    "print(result.get_solution_result())\n",
    "q_sol = result.GetSolution(q)\n",
    "print(q_sol)\n",
    "\n",
    "print(f\"Initial distance: {tcp_distance_to_target(q0):.3f}\")\n",
    "print(f\"Solution distance: {tcp_distance_to_target(q_sol):.3f}\")"
   ]
  },
  {
   "cell_type": "code",
   "execution_count": null,
   "id": "c867d9bd",
   "metadata": {},
   "outputs": [],
   "source": []
  },
  {
   "cell_type": "code",
   "execution_count": null,
   "id": "034bdf8f",
   "metadata": {},
   "outputs": [],
   "source": []
  },
  {
   "cell_type": "code",
   "execution_count": null,
   "id": "1cc55dcf",
   "metadata": {},
   "outputs": [],
   "source": []
  },
  {
   "cell_type": "code",
   "execution_count": null,
   "id": "3449219c",
   "metadata": {},
   "outputs": [],
   "source": []
  }
 ],
 "metadata": {
  "kernelspec": {
   "display_name": "Python 3 (ipykernel)",
   "language": "python",
   "name": "python3"
  },
  "language_info": {
   "codemirror_mode": {
    "name": "ipython",
    "version": 3
   },
   "file_extension": ".py",
   "mimetype": "text/x-python",
   "name": "python",
   "nbconvert_exporter": "python",
   "pygments_lexer": "ipython3",
   "version": "3.10.6"
  }
 },
 "nbformat": 4,
 "nbformat_minor": 5
}
