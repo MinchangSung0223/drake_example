{
 "cells": [
  {
   "cell_type": "code",
   "execution_count": 3,
   "metadata": {},
   "outputs": [
    {
     "name": "stderr",
     "output_type": "stream",
     "text": [
      "INFO:drake:Meshcat listening for connections at http://localhost:7002\n"
     ]
    }
   ],
   "source": [
    "# Import some basic libraries and functions for this tutorial.\n",
    "import numpy as np\n",
    "import os\n",
    "\n",
    "from pydrake.common import temp_directory\n",
    "from pydrake.geometry import (\n",
    "    MeshcatVisualizer,\n",
    "    MeshcatVisualizerParams,\n",
    "    Role,\n",
    "    StartMeshcat,\n",
    ")\n",
    "from pydrake.math import RigidTransform, RollPitchYaw\n",
    "from pydrake.multibody.parsing import Parser\n",
    "from pydrake.multibody.plant import AddMultibodyPlantSceneGraph\n",
    "from pydrake.systems.analysis import Simulator\n",
    "from pydrake.systems.framework import DiagramBuilder\n",
    "from pydrake.visualization import ModelVisualizer\n",
    "\n",
    "meshcat = StartMeshcat()"
   ]
  },
  {
   "cell_type": "code",
   "execution_count": 3,
   "metadata": {},
   "outputs": [
    {
     "name": "stderr",
     "output_type": "stream",
     "text": [
      "INFO:drake:Click 'Stop Running' or press Esc to quit\n"
     ]
    },
    {
     "data": {
      "text/plain": [
       "<RunResult.STOPPED: 2>"
      ]
     },
     "execution_count": 3,
     "metadata": {},
     "output_type": "execute_result"
    }
   ],
   "source": [
    "# First we'll choose one of Drake's example model files, a KUKA iiwa arm.\n",
    "iiwa7_model_url = (\n",
    "    \"package://drake/manipulation/models/\"\n",
    "    \"iiwa_description/iiwa7/iiwa7_with_box_collision.sdf\")\n",
    "\n",
    "# Create a model visualizer and add the robot arm.\n",
    "visualizer = ModelVisualizer(meshcat=meshcat)\n",
    "visualizer.parser().AddModels(url=iiwa7_model_url)\n",
    "\n",
    "# When this notebook is run in test mode it needs to stop execution without\n",
    "# user interaction. For interactive model visualization you won't normally\n",
    "# need the 'loop_once' flag.\n",
    "test_mode = True if \"TEST_SRCDIR\" in os.environ else False\n",
    "\n",
    "# Start the interactive visualizer.\n",
    "# Click the \"Stop Running\" button in MeshCat when you're finished.\n",
    "visualizer.Run(loop_once=test_mode)"
   ]
  },
  {
   "cell_type": "code",
   "execution_count": 5,
   "metadata": {},
   "outputs": [
    {
     "ename": "RuntimeError",
     "evalue": "/home/sung/workspace/drake_example/models/indy7.sdf:4: error: URI 'meshes/visual/Indy7_0.obj' resolved to '/home/sung/workspace/drake_example/models/meshes/visual/Indy7_0.obj' which does not exist.",
     "output_type": "error",
     "traceback": [
      "\u001b[0;31m---------------------------------------------------------------------------\u001b[0m",
      "\u001b[0;31mRuntimeError\u001b[0m                              Traceback (most recent call last)",
      "Cell \u001b[0;32mIn[5], line 4\u001b[0m\n\u001b[1;32m      1\u001b[0m indy7_model_filename\u001b[39m=\u001b[39m\u001b[39m\"\u001b[39m\u001b[39m/home/sung/workspace/drake_example/models/indy7.sdf\u001b[39m\u001b[39m\"\u001b[39m\n\u001b[1;32m      3\u001b[0m visualizer \u001b[39m=\u001b[39m ModelVisualizer(meshcat\u001b[39m=\u001b[39mmeshcat)\n\u001b[0;32m----> 4\u001b[0m visualizer\u001b[39m.\u001b[39;49mparser()\u001b[39m.\u001b[39;49mAddModels(file_name\u001b[39m=\u001b[39;49mindy7_model_filename)\n\u001b[1;32m      5\u001b[0m \u001b[39m#test_mode = True if \"TEST_SRCDIR\" in os.environ else False\u001b[39;00m\n\u001b[1;32m      6\u001b[0m \u001b[39m#visualizer.Run(loop_once=test_mode)\u001b[39;00m\n",
      "\u001b[0;31mRuntimeError\u001b[0m: /home/sung/workspace/drake_example/models/indy7.sdf:4: error: URI 'meshes/visual/Indy7_0.obj' resolved to '/home/sung/workspace/drake_example/models/meshes/visual/Indy7_0.obj' which does not exist."
     ]
    }
   ],
   "source": [
    "indy7_model_filename=\"/home/sung/workspace/drake_example/models/indy7/indy7.sdf\"\n",
    "\n",
    "visualizer = ModelVisualizer(meshcat=meshcat)\n",
    "visualizer.parser().AddModels(file_name=indy7_model_filename)\n",
    "#test_mode = True if \"TEST_SRCDIR\" in os.environ else False\n",
    "#visualizer.Run(loop_once=test_mode)"
   ]
  }
 ],
 "metadata": {
  "kernelspec": {
   "display_name": "Python 3",
   "language": "python",
   "name": "python3"
  },
  "language_info": {
   "codemirror_mode": {
    "name": "ipython",
    "version": 3
   },
   "file_extension": ".py",
   "mimetype": "text/x-python",
   "name": "python",
   "nbconvert_exporter": "python",
   "pygments_lexer": "ipython3",
   "version": "3.10.6"
  },
  "orig_nbformat": 4
 },
 "nbformat": 4,
 "nbformat_minor": 2
}
